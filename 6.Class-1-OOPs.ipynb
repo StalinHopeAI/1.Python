{
 "cells": [
  {
   "cell_type": "markdown",
   "metadata": {},
   "source": [
    "def Agecategory():\n",
    "        if(age<18):\n",
    "            print(\"Childern\")\n",
    "            cate=\"Childern\"\n",
    "        elif(age<35):\n",
    "            print(\"Adult\")\n",
    "            cate=\"Adult\"\n",
    "        elif(age<59):\n",
    "            print(\"Citizen\")\n",
    "            cate=\"Citizen\"\n",
    "        else:\n",
    "            print(\"Seinor Citizen\")\n",
    "            cate=\"Senior Citizen\"\n",
    "        return cate"
   ]
  },
  {
   "cell_type": "code",
   "execution_count": 1,
   "metadata": {},
   "outputs": [
    {
     "ename": "IndentationError",
     "evalue": "expected an indented block (<ipython-input-1-f4a38d1db6bd>, line 2)",
     "output_type": "error",
     "traceback": [
      "\u001b[1;36m  File \u001b[1;32m\"<ipython-input-1-f4a38d1db6bd>\"\u001b[1;36m, line \u001b[1;32m2\u001b[0m\n\u001b[1;33m    age= int(input(\"Enter the Age:\"))\u001b[0m\n\u001b[1;37m      ^\u001b[0m\n\u001b[1;31mIndentationError\u001b[0m\u001b[1;31m:\u001b[0m expected an indented block\n"
     ]
    }
   ],
   "source": [
    "def Agecategory():\n",
    "age= int(input(\"Enter the Age:\"))\n",
    "agecate=Agecategory()"
   ]
  },
  {
   "cell_type": "code",
   "execution_count": 21,
   "metadata": {},
   "outputs": [],
   "source": [
    "def AgecategoryNoR():\n",
    "        if(age<18):\n",
    "            print(\"Childern\")\n",
    "            cate=\"Childern\"\n",
    "        elif(age<35):\n",
    "            print(\"Adult\")\n",
    "            cate=\"Adult\"\n",
    "        elif(age<59):\n",
    "            print(\"Citizen\")\n",
    "            cate=\"Citizen\"\n",
    "        else:\n",
    "            print(\"Seinor Citizen\")\n",
    "            cate=\"Senior Citizen\"\n",
    "        "
   ]
  },
  {
   "cell_type": "code",
   "execution_count": 22,
   "metadata": {},
   "outputs": [
    {
     "name": "stdout",
     "output_type": "stream",
     "text": [
      "Enter the Age:12\n",
      "Childern\n"
     ]
    }
   ],
   "source": [
    "age= int(input(\"Enter the Age:\"))\n",
    "agecate=AgecategoryNoR()"
   ]
  },
  {
   "cell_type": "code",
   "execution_count": null,
   "metadata": {},
   "outputs": [],
   "source": [
    "def AgecategoryNoR():\n",
    "        if(age<18):\n",
    "            print(\"Childern\")\n",
    "            cate=\"Childern\"\n",
    "        elif(age<35):\n",
    "            print(\"Adult\")\n",
    "            cate=\"Adult\"\n",
    "        elif(age<59):\n",
    "            print(\"Citizen\")\n",
    "            cate=\"Citizen\"\n",
    "        else:\n",
    "            print(\"Seinor Citizen\")\n",
    "            cate=\"Senior Citizen\""
   ]
  },
  {
   "cell_type": "code",
   "execution_count": 23,
   "metadata": {},
   "outputs": [
    {
     "name": "stdout",
     "output_type": "stream",
     "text": [
      "Enter the Age:36\n",
      "Citizen\n"
     ]
    }
   ],
   "source": [
    "age= int(input(\"Enter the Age:\"))\n",
    "age=AgecategoryNoR()"
   ]
  },
  {
   "cell_type": "code",
   "execution_count": 24,
   "metadata": {},
   "outputs": [],
   "source": [
    "def oddEven():\n",
    "    num= int(input(\"Enter the number:\"))\n",
    "    if((num%2)==1):\n",
    "        print(\"Odd Number\")\n",
    "        message=\"Odd Number\"\n",
    "    else:\n",
    "        print(\"Even Number\")\n",
    "        message=\"Even Number\"\n",
    "    return message\n"
   ]
  },
  {
   "cell_type": "code",
   "execution_count": 25,
   "metadata": {},
   "outputs": [
    {
     "name": "stdout",
     "output_type": "stream",
     "text": [
      "Enter the number:2\n",
      "Even Number\n"
     ]
    }
   ],
   "source": [
    "message=oddEven()"
   ]
  },
  {
   "cell_type": "code",
   "execution_count": null,
   "metadata": {},
   "outputs": [],
   "source": [
    "message=oddEven()"
   ]
  },
  {
   "cell_type": "code",
   "execution_count": null,
   "metadata": {},
   "outputs": [],
   "source": [
    "if(message==\"Even Number\"):\n",
    "    print(\" Given number is Even\")\n",
    "else:\n",
    "    print(\"Given Number is Odd\")"
   ]
  },
  {
   "cell_type": "code",
   "execution_count": null,
   "metadata": {},
   "outputs": [],
   "source": [
    "def oddEven():\n",
    "    num= int(input(\"Enter the number:\"))\n",
    "    if((num%2)==1):\n",
    "        print(\"Odd Number\")\n",
    "        message=\"Odd Number\"\n",
    "    else:\n",
    "        print(\"Even Number\")\n",
    "        message=\"Even Number\"\n",
    "    return message\n",
    "oddEven()"
   ]
  },
  {
   "cell_type": "code",
   "execution_count": null,
   "metadata": {},
   "outputs": [],
   "source": [
    "def oddEven():\n",
    "    num= int(input(\"Enter the number:\"))\n",
    "    if((num%2)==1):\n",
    "        print(\"Odd Number\")\n",
    "        message=\"Odd Number\"\n",
    "    else:\n",
    "        print(\"Even Number\")\n",
    "        message=\"Even Number\"\n",
    "    return message\n",
    "message=oddEven()"
   ]
  },
  {
   "cell_type": "code",
   "execution_count": null,
   "metadata": {},
   "outputs": [],
   "source": [
    "if(message==\"odd Number\"):\n",
    "    print(\"Given Number is Odd\")\n",
    "else:\n",
    "    print(\"Given Number is Even\")"
   ]
  },
  {
   "cell_type": "code",
   "execution_count": null,
   "metadata": {},
   "outputs": [],
   "source": [
    "def BMI():\n",
    "    BMI=int(input(\"Enter The BMI:\"))\n",
    "    if BMI <=18.5:\n",
    "        print(\"underweight\")\n",
    "        messgae=\"underweight\"\n",
    "    elif BMI<24.9:\n",
    "        print(\"Normalweight\")\n",
    "        message=\"Normalweight\"\n",
    "    elif BMI<29.9:\n",
    "        print(\"Overweight\")\n",
    "        messag=\"Overweight\"\n",
    "    else:\n",
    "        print(\"Obese\")\n",
    "        message=\"Obese\"\n",
    "    return message\n",
    "BMI()"
   ]
  },
  {
   "cell_type": "code",
   "execution_count": 18,
   "metadata": {},
   "outputs": [],
   "source": [
    "class multiplefunctions():\n",
    "    def BMI():\n",
    "        BMI=int(input(\"Enter The BMI:\"))\n",
    "        if BMI <=18.5:\n",
    "            print(\"underweight\")\n",
    "            messgae=\"underweight\"\n",
    "        elif BMI<24.9:\n",
    "            print(\"Normalweight\")\n",
    "            message=\"Normalweight\"\n",
    "        elif BMI<29.9:\n",
    "            print(\"Overweight\")\n",
    "            messag=\"Overweight\"\n",
    "        else:\n",
    "            print(\"Obese\")\n",
    "            message=\"Obese\"\n",
    "        return message\n",
    "    def oddEven():\n",
    "        num= int(input(\"Enter the number:\"))\n",
    "        if((num%2)==1):\n",
    "            print(\"Odd Number\")\n",
    "            message=\"Odd Number\"\n",
    "        else:\n",
    "            print(\"Even Number\")\n",
    "            message=\"Even Number\"\n",
    "        return message\n"
   ]
  },
  {
   "cell_type": "code",
   "execution_count": 27,
   "metadata": {},
   "outputs": [
    {
     "name": "stdout",
     "output_type": "stream",
     "text": [
      "Enter the number:21\n",
      "Odd Number\n"
     ]
    },
    {
     "data": {
      "text/plain": [
       "'Odd Number'"
      ]
     },
     "execution_count": 27,
     "metadata": {},
     "output_type": "execute_result"
    }
   ],
   "source": [
    "multiplefunctions.oddEven()"
   ]
  },
  {
   "cell_type": "code",
   "execution_count": 20,
   "metadata": {},
   "outputs": [
    {
     "name": "stdout",
     "output_type": "stream",
     "text": [
      "Enter The BMI:23\n",
      "Normalweight\n"
     ]
    },
    {
     "data": {
      "text/plain": [
       "'Normalweight'"
      ]
     },
     "execution_count": 20,
     "metadata": {},
     "output_type": "execute_result"
    }
   ],
   "source": [
    "multiplefunctions.BMI()"
   ]
  },
  {
   "cell_type": "code",
   "execution_count": null,
   "metadata": {},
   "outputs": [],
   "source": []
  }
 ],
 "metadata": {
  "kernelspec": {
   "display_name": "Python 3",
   "language": "python",
   "name": "python3"
  },
  "language_info": {
   "codemirror_mode": {
    "name": "ipython",
    "version": 3
   },
   "file_extension": ".py",
   "mimetype": "text/x-python",
   "name": "python",
   "nbconvert_exporter": "python",
   "pygments_lexer": "ipython3",
   "version": "3.7.4"
  }
 },
 "nbformat": 4,
 "nbformat_minor": 2
}
