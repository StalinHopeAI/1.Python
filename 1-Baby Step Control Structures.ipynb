{
 "cells": [
  {
   "cell_type": "code",
   "execution_count": 2,
   "metadata": {},
   "outputs": [
    {
     "name": "stdout",
     "output_type": "stream",
     "text": [
      "Welcome to Assignment-1\n"
     ]
    }
   ],
   "source": [
    "print(\"Welcome to Assignment-1\")"
   ]
  },
  {
   "cell_type": "code",
   "execution_count": 9,
   "metadata": {},
   "outputs": [
    {
     "name": "stdout",
     "output_type": "stream",
     "text": [
      "The Number 1:10\n",
      "The Number 2:30\n",
      "The number 1:,num1\n",
      "The number 1:,num2\n",
      "40\n"
     ]
    }
   ],
   "source": [
    "\n",
    "num1=int(input(\"The Number 1:\"))\n",
    "num2=int(input(\"The Number 2:\"))\n",
    "add=num1+num2\n",
    "print(\"The number 1:,num1\")\n",
    "print(\"The number 1:,num2\")\n",
    "print(add)"
   ]
  },
  {
   "cell_type": "code",
   "execution_count": 25,
   "metadata": {},
   "outputs": [
    {
     "name": "stdout",
     "output_type": "stream",
     "text": [
      "The addition of two numbers:\n",
      "The number 1: 10\n",
      "The number 2: 30\n",
      "The answer: 40\n"
     ]
    }
   ],
   "source": [
    "print(\"The addition of two numbers:\")\n",
    "num1=10\n",
    "print(\"The number 1:\", num1)\n",
    "num2=30\n",
    "print(\"The number 2:\", num2)\n",
    "print(\"The answer:\",add)"
   ]
  },
  {
   "cell_type": "code",
   "execution_count": 53,
   "metadata": {},
   "outputs": [
    {
     "name": "stdout",
     "output_type": "stream",
     "text": [
      "Enter The BMI:31\n",
      "Obese\n"
     ]
    }
   ],
   "source": [
    "BMI=int(input(\"Enter The BMI:\"))\n",
    "if BMI <=18.5:\n",
    "    print(\"underweight\")\n",
    "elif BMI ==18.5-24.9:\n",
    "    print(\"Normalweight\")\n",
    "elif BMI ==25-29.9:\n",
    "    print(\"Overweight\")\n",
    "else:\n",
    "    print(\"Obese\")\n",
    "\n",
    "    "
   ]
  },
  {
   "cell_type": "code",
   "execution_count": 62,
   "metadata": {},
   "outputs": [
    {
     "name": "stdout",
     "output_type": "stream",
     "text": [
      "underweight\n",
      "Normalweight\n",
      "Normalweight\n",
      "Normalweight\n",
      "Normalweight\n",
      "Normalweight\n",
      "Normalweight\n",
      "Normalweight\n",
      "Overweight\n",
      "Overweight\n",
      "Overweight\n",
      "Overweight\n",
      "Obese\n",
      "Obese\n"
     ]
    }
   ],
   "source": [
    "for BMI in [18,19,20,21,22,23,24,25,26,27,28,29,30,35]:\n",
    "    if(BMI<=18.5):\n",
    "        print(\"underweight\")\n",
    "    elif(BMI<=25):\n",
    "        print(\"Normalweight\")\n",
    "    elif(BMI <=29.9):\n",
    "        print(\"Overweight\")\n",
    "    else:\n",
    "        print(\"Obese\")\n"
   ]
  },
  {
   "cell_type": "code",
   "execution_count": null,
   "metadata": {},
   "outputs": [],
   "source": []
  }
 ],
 "metadata": {
  "kernelspec": {
   "display_name": "Python 3",
   "language": "python",
   "name": "python3"
  },
  "language_info": {
   "codemirror_mode": {
    "name": "ipython",
    "version": 3
   },
   "file_extension": ".py",
   "mimetype": "text/x-python",
   "name": "python",
   "nbconvert_exporter": "python",
   "pygments_lexer": "ipython3",
   "version": "3.7.4"
  }
 },
 "nbformat": 4,
 "nbformat_minor": 2
}
