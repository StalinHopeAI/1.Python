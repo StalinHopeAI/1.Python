{
 "cells": [
  {
   "cell_type": "code",
   "execution_count": 1,
   "metadata": {},
   "outputs": [],
   "source": [
    "def subfields():\n",
    "    AI_Subfields=[\"Machine Learning\", \"Neural Networks Vision\", \"Robotics\", \"Speech Processing\", \"Natural Language Processing\"]\n",
    "    print(\"Sub-fields in AI are:\")\n",
    "    for Subfield in AI_Subfields:\n",
    "        print(Subfield)"
   ]
  },
  {
   "cell_type": "code",
   "execution_count": 2,
   "metadata": {},
   "outputs": [
    {
     "name": "stdout",
     "output_type": "stream",
     "text": [
      "Sub-fields in AI are:\n",
      "Machine Learning\n",
      "Neural Networks Vision\n",
      "Robotics\n",
      "Speech Processing\n",
      "Natural Language Processing\n"
     ]
    }
   ],
   "source": [
    "subfields()"
   ]
  },
  {
   "cell_type": "code",
   "execution_count": 3,
   "metadata": {},
   "outputs": [],
   "source": [
    "def subfields():\n",
    "    print(\"Sub-fields in AI are:\")\n",
    "    print(\"Machine Learning\")\n",
    "    print(\"Neural Networks Vision\")\n",
    "    print(\"Robotics\")\n",
    "    print(\"Speech Processing\")"
   ]
  },
  {
   "cell_type": "code",
   "execution_count": 4,
   "metadata": {},
   "outputs": [
    {
     "name": "stdout",
     "output_type": "stream",
     "text": [
      "Sub-fields in AI are:\n",
      "Machine Learning\n",
      "Neural Networks Vision\n",
      "Robotics\n",
      "Speech Processing\n"
     ]
    }
   ],
   "source": [
    "subfields()"
   ]
  },
  {
   "cell_type": "code",
   "execution_count": 5,
   "metadata": {},
   "outputs": [
    {
     "name": "stdout",
     "output_type": "stream",
     "text": [
      "Enter the Number:52452\n",
      "Given Number is Even \n"
     ]
    }
   ],
   "source": [
    "def OddEven():\n",
    "    num=int(input(\"Enter the Number:\"))\n",
    "    if((num%2)==0):\n",
    "        print(\"Given Number is Even \")\n",
    "        message=\"Even Number\"\n",
    "    else:\n",
    "        print(\"Given Number is Odd\")\n",
    "        message=\"odd number\"\n",
    "        \n",
    "    \n",
    "OddEven()"
   ]
  },
  {
   "cell_type": "code",
   "execution_count": 6,
   "metadata": {},
   "outputs": [
    {
     "name": "stdout",
     "output_type": "stream",
     "text": [
      "Enter the Age:20\n",
      "Enter the Male:Male\n",
      "Not Elegible\n"
     ]
    }
   ],
   "source": [
    "def Elegible():\n",
    "    age= int(input(\"Enter the Age:\"))\n",
    "    gender=(input(\"Enter the Male:\"))\n",
    "    eligible=(input())\n",
    "    \n",
    "Elegible()"
   ]
  },
  {
   "cell_type": "code",
   "execution_count": 7,
   "metadata": {},
   "outputs": [],
   "source": [
    "def percentages():\n",
    "    subject1=int(input(\"enter the Subject1:\"))\n",
    "    subject2=int(input(\"enter the Subject2:\"))\n",
    "    subject3=int(input(\"enter the Subject3:\"))\n",
    "    subject4=int(input(\"enter the Subject4:\"))\n",
    "    subject5=int(input(\"enter the Subject5:\"))\n",
    "    Total=subject1+subject2+subject3+subject4+subject5\n",
    "    print(\"Total:\",Total)\n",
    "    print(\"percentage:\",format(Total/5,\".12f\"))\n",
    "                                                                            "
   ]
  },
  {
   "cell_type": "code",
   "execution_count": 8,
   "metadata": {},
   "outputs": [
    {
     "name": "stdout",
     "output_type": "stream",
     "text": [
      "enter the Subject1:98\n",
      "enter the Subject2:87\n",
      "enter the Subject3:95\n",
      "enter the Subject4:95\n",
      "enter the Subject5:93\n",
      "Total: 468\n",
      "percentage: 93.600000000000\n"
     ]
    }
   ],
   "source": [
    "percentages()\n",
    "  "
   ]
  },
  {
   "cell_type": "code",
   "execution_count": 22,
   "metadata": {},
   "outputs": [],
   "source": [
    "def triangle():\n",
    "    Height = int(input(\"Height:\"))\n",
    "    Breadth = int(input(\"Breadth:\"))\n",
    "    area = ((Height * Breadth)/2)\n",
    "    print(\"Area of triangle:\", area)\n",
    "    height1 = int(input(\"Height1: \"))\n",
    "    height2 = int(input(\"Height2: \"))\n",
    "    Breadth = int(input(\"Breadth: \"))\n",
    "    perimeter = height1 + height2 + Breadth\n",
    "    print(\"perimeter of triangle:\", perimeter)"
   ]
  },
  {
   "cell_type": "code",
   "execution_count": 23,
   "metadata": {},
   "outputs": [
    {
     "name": "stdout",
     "output_type": "stream",
     "text": [
      "Height:32\n",
      "Breadth:34\n",
      "Area of triangle: 544.0\n",
      "Height1: 2\n",
      "Height2: 4\n",
      "Breadth: 4\n",
      "perimeter of triangle: 10\n"
     ]
    }
   ],
   "source": [
    "triangle() "
   ]
  },
  {
   "cell_type": "code",
   "execution_count": null,
   "metadata": {},
   "outputs": [],
   "source": []
  }
 ],
 "metadata": {
  "kernelspec": {
   "display_name": "Python 3",
   "language": "python",
   "name": "python3"
  },
  "language_info": {
   "codemirror_mode": {
    "name": "ipython",
    "version": 3
   },
   "file_extension": ".py",
   "mimetype": "text/x-python",
   "name": "python",
   "nbconvert_exporter": "python",
   "pygments_lexer": "ipython3",
   "version": "3.7.4"
  }
 },
 "nbformat": 4,
 "nbformat_minor": 2
}
