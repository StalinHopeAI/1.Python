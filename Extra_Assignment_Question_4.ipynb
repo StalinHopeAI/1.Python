{
 "cells": [
  {
   "cell_type": "code",
   "execution_count": 1,
   "metadata": {},
   "outputs": [
    {
     "name": "stdout",
     "output_type": "stream",
     "text": [
      "Sub-fields in AI are:\n",
      "Machine Learning\n",
      "Neural Networks Vision\n",
      "Robotics\n",
      "Speech Processing\n",
      "Natural Language Processing\n"
     ]
    }
   ],
   "source": [
    "def subfields():\n",
    "    AI_Subfields=[\"Machine Learning\", \"Neural Networks Vision\", \"Robotics\", \"Speech Processing\", \"Natural Language Processing\"]\n",
    "    print(\"Sub-fields in AI are:\")\n",
    "    for Subfield in AI_Subfields:\n",
    "        print(Subfield)\n",
    "subfields()\n",
    "\n"
   ]
  },
  {
   "cell_type": "code",
   "execution_count": 2,
   "metadata": {},
   "outputs": [
    {
     "name": "stdout",
     "output_type": "stream",
     "text": [
      "Enter the Number:4\n",
      "Given Number is Even \n"
     ]
    }
   ],
   "source": [
    "def OddEven():\n",
    "    num=int(input(\"Enter the Number:\"))\n",
    "    if((num%2)==0):\n",
    "        print(\"Given Number is Even \")\n",
    "        message=\"Even Number\"\n",
    "    else:\n",
    "        print(\"Given Number is Odd\")\n",
    "        message=\"odd number\"\n",
    "        \n",
    "    \n",
    "OddEven()"
   ]
  },
  {
   "cell_type": "code",
   "execution_count": 11,
   "metadata": {},
   "outputs": [
    {
     "name": "stdout",
     "output_type": "stream",
     "text": [
      "Your Age:18\n",
      "Your Gendermale\n",
      "Not Eligible\n"
     ]
    }
   ],
   "source": [
    "def Elegible():\n",
    "    age= int(input(\"Enter the Age\"))\n",
    "    gender= int(input(\"Enter the Gender\"))\n",
    "    if Age>=18 and gender == \"Male\":\n",
    "        print(\"Eligible\")\n",
    "    else:\n",
    "        print(\"Not Eligible\")\n",
    "Eligible()"
   ]
  },
  {
   "cell_type": "code",
   "execution_count": 19,
   "metadata": {},
   "outputs": [
    {
     "name": "stdout",
     "output_type": "stream",
     "text": [
      "Subject1=23\n",
      "Subject2=45\n",
      "Subject3=34\n",
      "Subject4=23\n",
      "Subject5=23\n",
      "Total:148\n",
      "percentage:6.59\n"
     ]
    }
   ],
   "source": [
    "def percentage():\n",
    "    School_Subjects=[\"Subject1=23\", \"Subject2=45\", \"Subject3=34\", \"Subject4=23\", \"Subject5=23\", \"Total:148\", \"percentage:6.59\"]\n",
    "    for percentage in School_Subjects:\n",
    "        print(percentage)\n",
    "        \n",
    "percentage()"
   ]
  },
  {
   "cell_type": "code",
   "execution_count": 22,
   "metadata": {},
   "outputs": [
    {
     "name": "stdout",
     "output_type": "stream",
     "text": [
      "Height1: 3\n",
      "Height1\n",
      "Height2: 4\n",
      "Height1\n",
      "Breadth: 45\n",
      "Breadth\n"
     ]
    },
    {
     "ename": "NameError",
     "evalue": "name 'height' is not defined",
     "output_type": "error",
     "traceback": [
      "\u001b[1;31m---------------------------------------------------------------------------\u001b[0m",
      "\u001b[1;31mNameError\u001b[0m                                 Traceback (most recent call last)",
      "\u001b[1;32m<ipython-input-22-fe85e9e59187>\u001b[0m in \u001b[0;36m<module>\u001b[1;34m\u001b[0m\n\u001b[0;32m     10\u001b[0m     \u001b[0mperimeter\u001b[0m \u001b[1;33m=\u001b[0m \u001b[0mheight1\u001b[0m \u001b[1;33m+\u001b[0m \u001b[0mheight2\u001b[0m \u001b[1;33m+\u001b[0m \u001b[0mbreadth\u001b[0m\u001b[1;33m\u001b[0m\u001b[1;33m\u001b[0m\u001b[0m\n\u001b[0;32m     11\u001b[0m     \u001b[0mprint\u001b[0m\u001b[1;33m(\u001b[0m\u001b[1;34m\"perimeter of triangle:\"\u001b[0m\u001b[1;33m,\u001b[0m \u001b[0mperimeter\u001b[0m\u001b[1;33m)\u001b[0m\u001b[1;33m\u001b[0m\u001b[1;33m\u001b[0m\u001b[0m\n\u001b[1;32m---> 12\u001b[1;33m \u001b[0mtriangle\u001b[0m\u001b[1;33m(\u001b[0m\u001b[1;33m)\u001b[0m\u001b[1;33m\u001b[0m\u001b[1;33m\u001b[0m\u001b[0m\n\u001b[0m",
      "\u001b[1;32m<ipython-input-22-fe85e9e59187>\u001b[0m in \u001b[0;36mtriangle\u001b[1;34m()\u001b[0m\n\u001b[0;32m      6\u001b[0m     \u001b[0mbreadth\u001b[0m \u001b[1;33m=\u001b[0m \u001b[0mfloat\u001b[0m\u001b[1;33m(\u001b[0m\u001b[0minput\u001b[0m\u001b[1;33m(\u001b[0m\u001b[1;34m\"Breadth: \"\u001b[0m\u001b[1;33m)\u001b[0m\u001b[1;33m)\u001b[0m\u001b[1;33m\u001b[0m\u001b[1;33m\u001b[0m\u001b[0m\n\u001b[0;32m      7\u001b[0m     \u001b[0mprint\u001b[0m\u001b[1;33m(\u001b[0m\u001b[1;34m\"Breadth\"\u001b[0m\u001b[1;33m)\u001b[0m\u001b[1;33m\u001b[0m\u001b[1;33m\u001b[0m\u001b[0m\n\u001b[1;32m----> 8\u001b[1;33m     \u001b[0marea\u001b[0m\u001b[1;33m=\u001b[0m \u001b[1;33m(\u001b[0m\u001b[0mheight\u001b[0m\u001b[1;33m*\u001b[0m\u001b[0mBreadth\u001b[0m\u001b[1;33m)\u001b[0m\u001b[1;33m/\u001b[0m\u001b[1;36m2\u001b[0m\u001b[1;33m\u001b[0m\u001b[1;33m\u001b[0m\u001b[0m\n\u001b[0m\u001b[0;32m      9\u001b[0m     \u001b[0mprint\u001b[0m\u001b[1;33m(\u001b[0m\u001b[1;34m\"Area of triangle:\"\u001b[0m\u001b[1;33m,\u001b[0m \u001b[0marea\u001b[0m\u001b[1;33m)\u001b[0m\u001b[1;33m\u001b[0m\u001b[1;33m\u001b[0m\u001b[0m\n\u001b[0;32m     10\u001b[0m     \u001b[0mperimeter\u001b[0m \u001b[1;33m=\u001b[0m \u001b[0mheight1\u001b[0m \u001b[1;33m+\u001b[0m \u001b[0mheight2\u001b[0m \u001b[1;33m+\u001b[0m \u001b[0mbreadth\u001b[0m\u001b[1;33m\u001b[0m\u001b[1;33m\u001b[0m\u001b[0m\n",
      "\u001b[1;31mNameError\u001b[0m: name 'height' is not defined"
     ]
    }
   ],
   "source": [
    "def triangle():\n",
    "    height1 = float(input(\"Height1: \"))\n",
    "    print(\"Height1\")\n",
    "    height2 = float(input(\"Height2: \"))\n",
    "    print(\"Height1\")\n",
    "    for tringle in breadth\n",
    "    breadth = float(input(\"Breadth: \"))\n",
    "    print(\"Breadth\")\n",
    "    area= (height*Breadth)/2\n",
    "    print(\"Area of triangle:\", area)\n",
    "    perimeter = height1 + height2 + breadth\n",
    "    print(\"perimeter of triangle:\", perimeter)\n",
    "triangle()    \n"
   ]
  },
  {
   "cell_type": "code",
   "execution_count": null,
   "metadata": {},
   "outputs": [],
   "source": []
  }
 ],
 "metadata": {
  "kernelspec": {
   "display_name": "Python 3",
   "language": "python",
   "name": "python3"
  },
  "language_info": {
   "codemirror_mode": {
    "name": "ipython",
    "version": 3
   },
   "file_extension": ".py",
   "mimetype": "text/x-python",
   "name": "python",
   "nbconvert_exporter": "python",
   "pygments_lexer": "ipython3",
   "version": "3.7.4"
  }
 },
 "nbformat": 4,
 "nbformat_minor": 2
}
